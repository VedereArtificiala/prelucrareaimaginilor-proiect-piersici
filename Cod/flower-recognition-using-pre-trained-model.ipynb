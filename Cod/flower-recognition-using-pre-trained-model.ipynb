{
 "cells": [
  {
   "cell_type": "markdown",
   "metadata": {
    "papermill": {
     "duration": 0.010436,
     "end_time": "2021-01-20T00:42:51.353704",
     "exception": false,
     "start_time": "2021-01-20T00:42:51.343268",
     "status": "completed"
    },
    "tags": []
   },
   "source": [
    "# Flower Recognition using Pre-trained model"
   ]
  },
  {
   "cell_type": "code",
   "execution_count": 1,
   "metadata": {
    "_cell_guid": "b1076dfc-b9ad-4769-8c92-a6c4dae69d19",
    "_uuid": "8f2839f25d086af736a60e9eeb907d3b93b6e0e5",
    "execution": {
     "iopub.execute_input": "2021-01-20T00:42:51.379635Z",
     "iopub.status.busy": "2021-01-20T00:42:51.378981Z",
     "iopub.status.idle": "2021-01-20T00:42:56.583763Z",
     "shell.execute_reply": "2021-01-20T00:42:56.582786Z"
    },
    "papermill": {
     "duration": 5.220827,
     "end_time": "2021-01-20T00:42:56.583877",
     "exception": false,
     "start_time": "2021-01-20T00:42:51.363050",
     "status": "completed"
    },
    "tags": []
   },
   "outputs": [],
   "source": [
    "import numpy as np\n",
    "import matplotlib.pyplot as plt\n",
    "import seaborn as sns\n",
    "\n",
    "import pathlib\n",
    "import os\n",
    "\n",
    "import tensorflow as tf\n",
    "import tensorflow_hub as hub\n",
    "from tensorflow.keras import Sequential, layers\n",
    "from tensorflow.keras.preprocessing.image import load_img\n",
    "\n",
    "from sklearn.model_selection import train_test_split\n",
    "from sklearn.metrics import classification_report, confusion_matrix"
   ]
  },
  {
   "cell_type": "markdown",
   "metadata": {
    "papermill": {
     "duration": 0.009593,
     "end_time": "2021-01-20T00:42:56.603465",
     "exception": false,
     "start_time": "2021-01-20T00:42:56.593872",
     "status": "completed"
    },
    "tags": []
   },
   "source": [
    "## Sample images"
   ]
  },
  {
   "cell_type": "code",
   "execution_count": 2,
   "metadata": {
    "execution": {
     "iopub.execute_input": "2021-01-20T00:42:56.628505Z",
     "iopub.status.busy": "2021-01-20T00:42:56.627959Z",
     "iopub.status.idle": "2021-01-20T00:42:56.637594Z",
     "shell.execute_reply": "2021-01-20T00:42:56.637067Z"
    },
    "papermill": {
     "duration": 0.024779,
     "end_time": "2021-01-20T00:42:56.637688",
     "exception": false,
     "start_time": "2021-01-20T00:42:56.612909",
     "status": "completed"
    },
    "tags": []
   },
   "outputs": [
    {
     "data": {
      "text/plain": [
       "['daisy', 'dandelion', 'rose', 'sunflower', 'tulip']"
      ]
     },
     "execution_count": 2,
     "metadata": {},
     "output_type": "execute_result"
    }
   ],
   "source": [
    "flowers_dir = './flowers_1'\n",
    "flower_labels = sorted(os.listdir(flowers_dir))\n",
    "flower_labels"
   ]
  },
  {
   "cell_type": "markdown",
   "metadata": {
    "papermill": {
     "duration": 0.016141,
     "end_time": "2021-01-20T00:42:57.136772",
     "exception": false,
     "start_time": "2021-01-20T00:42:57.120631",
     "status": "completed"
    },
    "tags": []
   },
   "source": [
    "## Data Preprocessing\n",
    "\n",
    "* Iterate through all images\n",
    "* Resize image into (299,299,3) since the model expects this input shape\n",
    "* Convert image into numpy array\n",
    "* Append features in X and labels in y"
   ]
  },
  {
   "cell_type": "code",
   "execution_count": 3,
   "metadata": {
    "execution": {
     "iopub.execute_input": "2021-01-20T00:42:57.176691Z",
     "iopub.status.busy": "2021-01-20T00:42:57.176054Z",
     "iopub.status.idle": "2021-01-20T00:43:32.801079Z",
     "shell.execute_reply": "2021-01-20T00:43:32.800287Z"
    },
    "papermill": {
     "duration": 35.647693,
     "end_time": "2021-01-20T00:43:32.801194",
     "exception": false,
     "start_time": "2021-01-20T00:42:57.153501",
     "status": "completed"
    },
    "tags": []
   },
   "outputs": [],
   "source": [
    "img_height = 299\n",
    "img_width = 299\n",
    "\n",
    "X = []\n",
    "y = []\n",
    "flowers_dir_path_object = pathlib.Path(flowers_dir)\n",
    "for label_number,flower in enumerate(flower_labels):\n",
    "    # get all paths of images inside flower subdirectory\n",
    "    flower_images_paths = list(flowers_dir_path_object.glob(f'{flower}/*.jpg'))\n",
    "    for image in flower_images_paths:\n",
    "        # load and resize image\n",
    "        resized_image = load_img(str(image),target_size=(img_height,img_width))\n",
    "        # append features in X and labels in y\n",
    "        X.append(np.array(resized_image))\n",
    "        y.append(label_number)"
   ]
  },
  {
   "cell_type": "code",
   "execution_count": 4,
   "metadata": {
    "execution": {
     "iopub.execute_input": "2021-01-20T00:43:32.840328Z",
     "iopub.status.busy": "2021-01-20T00:43:32.839726Z",
     "iopub.status.idle": "2021-01-20T00:43:33.186956Z",
     "shell.execute_reply": "2021-01-20T00:43:33.186240Z"
    },
    "papermill": {
     "duration": 0.368565,
     "end_time": "2021-01-20T00:43:33.187108",
     "exception": false,
     "start_time": "2021-01-20T00:43:32.818543",
     "status": "completed"
    },
    "tags": []
   },
   "outputs": [
    {
     "name": "stdout",
     "output_type": "stream",
     "text": [
      "X shape: (4317, 299, 299, 3)\n",
      "y shape: (4317,)\n"
     ]
    }
   ],
   "source": [
    "X = np.array(X)\n",
    "y = np.array(y)\n",
    "\n",
    "print('X shape: {}'.format(X.shape))\n",
    "print('y shape: {}'.format(y.shape))"
   ]
  },
  {
   "cell_type": "markdown",
   "metadata": {
    "papermill": {
     "duration": 0.01693,
     "end_time": "2021-01-20T00:43:33.221565",
     "exception": false,
     "start_time": "2021-01-20T00:43:33.204635",
     "status": "completed"
    },
    "tags": []
   },
   "source": [
    "## Model Building\n",
    "\n",
    "* Train test split\n",
    "* Fine-tuning pre-trained model\n",
    "* Model evaluation"
   ]
  },
  {
   "cell_type": "code",
   "execution_count": 5,
   "metadata": {
    "execution": {
     "iopub.execute_input": "2021-01-20T00:43:33.262086Z",
     "iopub.status.busy": "2021-01-20T00:43:33.260927Z",
     "iopub.status.idle": "2021-01-20T00:43:33.570039Z",
     "shell.execute_reply": "2021-01-20T00:43:33.569432Z"
    },
    "papermill": {
     "duration": 0.331551,
     "end_time": "2021-01-20T00:43:33.570172",
     "exception": false,
     "start_time": "2021-01-20T00:43:33.238621",
     "status": "completed"
    },
    "tags": []
   },
   "outputs": [
    {
     "name": "stdout",
     "output_type": "stream",
     "text": [
      "X train shape: (3237, 299, 299, 3)\n",
      "X test shape: (1080, 299, 299, 3)\n"
     ]
    }
   ],
   "source": [
    "X_train, X_test, y_train, y_test = train_test_split(X, y,random_state=0)\n",
    "\n",
    "print('X train shape: {}'.format(X_train.shape))\n",
    "print('X test shape: {}'.format(X_test.shape))"
   ]
  },
  {
   "cell_type": "code",
   "execution_count": 7,
   "metadata": {
    "execution": {
     "iopub.execute_input": "2021-01-20T00:43:33.612661Z",
     "iopub.status.busy": "2021-01-20T00:43:33.612134Z",
     "iopub.status.idle": "2021-01-20T00:43:43.098080Z",
     "shell.execute_reply": "2021-01-20T00:43:43.097384Z"
    },
    "papermill": {
     "duration": 9.509816,
     "end_time": "2021-01-20T00:43:43.098205",
     "exception": false,
     "start_time": "2021-01-20T00:43:33.588389",
     "status": "completed"
    },
    "tags": []
   },
   "outputs": [
    {
     "name": "stdout",
     "output_type": "stream",
     "text": [
      "Model: \"sequential_1\"\n",
      "_________________________________________________________________\n",
      " Layer (type)                Output Shape              Param #   \n",
      "=================================================================\n",
      " rescaling_1 (Rescaling)     (None, 299, 299, 3)       0         \n",
      "                                                                 \n",
      " keras_layer_1 (KerasLayer)  (None, 2048)              21802784  \n",
      "                                                                 \n",
      " dense_2 (Dense)             (None, 64)                131136    \n",
      "                                                                 \n",
      " dense_3 (Dense)             (None, 5)                 325       \n",
      "                                                                 \n",
      "=================================================================\n",
      "Total params: 21,934,245\n",
      "Trainable params: 131,461\n",
      "Non-trainable params: 21,802,784\n",
      "_________________________________________________________________\n"
     ]
    }
   ],
   "source": [
    "# https://tfhub.dev/google/cropnet/feature_vector/concat/1\n",
    "# https://tfhub.dev/google/imagenet/inception_v3/feature_vector/4\n",
    "model = tf.keras.Sequential([\n",
    "    layers.experimental.preprocessing.Rescaling(1./255, input_shape=(img_height, img_width, 3)),\n",
    "    hub.KerasLayer(\"https://tfhub.dev/google/imagenet/inception_v3/feature_vector/4\",trainable=False),\n",
    "    tf.keras.layers.Dense(64, activation='relu'),\n",
    "    tf.keras.layers.Dense(5, activation='softmax')\n",
    "    #tf.keras.layers.Dense(512, activation='relu'),\n",
    "    #tf.keras.layers.Dense(100, activation='softmax')\n",
    "])\n",
    "\n",
    "model.compile(optimizer='adam',loss='sparse_categorical_crossentropy',metrics='accuracy')\n",
    "model.summary()"
   ]
  },
  {
   "cell_type": "code",
   "execution_count": 9,
   "metadata": {
    "execution": {
     "iopub.execute_input": "2021-01-20T00:43:43.139372Z",
     "iopub.status.busy": "2021-01-20T00:43:43.138832Z",
     "iopub.status.idle": "2021-01-20T00:44:27.842424Z",
     "shell.execute_reply": "2021-01-20T00:44:27.841651Z"
    },
    "papermill": {
     "duration": 44.725655,
     "end_time": "2021-01-20T00:44:27.842557",
     "exception": false,
     "start_time": "2021-01-20T00:43:43.116902",
     "status": "completed"
    },
    "tags": []
   },
   "outputs": [
    {
     "name": "stdout",
     "output_type": "stream",
     "text": [
      "Epoch 1/10\n"
     ]
    },
    {
     "name": "stdout",
     "output_type": "stream",
     "text": [
      "41/41 [==============================] - 3s 69ms/step - loss: 0.1478 - accuracy: 0.9602 - val_loss: 0.3073 - val_accuracy: 0.8951\n",
      "Epoch 2/10\n",
      "41/41 [==============================] - 3s 67ms/step - loss: 0.1391 - accuracy: 0.9598 - val_loss: 0.3149 - val_accuracy: 0.8935\n",
      "Epoch 3/10\n",
      "41/41 [==============================] - 3s 67ms/step - loss: 0.1167 - accuracy: 0.9718 - val_loss: 0.3950 - val_accuracy: 0.8812\n",
      "Epoch 4/10\n",
      "41/41 [==============================] - 3s 67ms/step - loss: 0.1048 - accuracy: 0.9733 - val_loss: 0.3288 - val_accuracy: 0.9012\n",
      "Epoch 5/10\n",
      "41/41 [==============================] - 3s 67ms/step - loss: 0.0819 - accuracy: 0.9822 - val_loss: 0.3193 - val_accuracy: 0.9012\n",
      "Epoch 6/10\n",
      "41/41 [==============================] - 3s 67ms/step - loss: 0.0703 - accuracy: 0.9876 - val_loss: 0.3305 - val_accuracy: 0.8935\n",
      "Epoch 7/10\n",
      "41/41 [==============================] - 3s 67ms/step - loss: 0.0734 - accuracy: 0.9822 - val_loss: 0.3317 - val_accuracy: 0.9028\n",
      "Epoch 8/10\n",
      "41/41 [==============================] - 3s 67ms/step - loss: 0.0600 - accuracy: 0.9896 - val_loss: 0.3334 - val_accuracy: 0.9012\n",
      "Epoch 9/10\n",
      "41/41 [==============================] - 3s 67ms/step - loss: 0.0514 - accuracy: 0.9919 - val_loss: 0.3320 - val_accuracy: 0.8935\n",
      "Epoch 10/10\n",
      "41/41 [==============================] - 3s 67ms/step - loss: 0.0439 - accuracy: 0.9934 - val_loss: 0.3345 - val_accuracy: 0.8997\n"
     ]
    }
   ],
   "source": [
    "history = model.fit(X_train,y_train,batch_size=64,validation_split=0.2,epochs=10)"
   ]
  },
  {
   "cell_type": "code",
   "execution_count": 10,
   "metadata": {
    "execution": {
     "iopub.execute_input": "2021-01-20T00:44:28.062577Z",
     "iopub.status.busy": "2021-01-20T00:44:28.061425Z",
     "iopub.status.idle": "2021-01-20T00:44:31.775063Z",
     "shell.execute_reply": "2021-01-20T00:44:31.774361Z"
    },
    "papermill": {
     "duration": 3.837934,
     "end_time": "2021-01-20T00:44:31.775213",
     "exception": false,
     "start_time": "2021-01-20T00:44:27.937279",
     "status": "completed"
    },
    "tags": []
   },
   "outputs": [
    {
     "name": "stdout",
     "output_type": "stream",
     "text": [
      " 5/34 [===>..........................] - ETA: 0s - loss: 0.2968 - accuracy: 0.9062"
     ]
    },
    {
     "name": "stdout",
     "output_type": "stream",
     "text": [
      "34/34 [==============================] - 1s 29ms/step - loss: 0.3409 - accuracy: 0.8926\n"
     ]
    },
    {
     "data": {
      "text/plain": [
       "[0.3409472405910492, 0.8925925493240356]"
      ]
     },
     "execution_count": 10,
     "metadata": {},
     "output_type": "execute_result"
    }
   ],
   "source": [
    "model.evaluate(X_test,y_test)"
   ]
  },
  {
   "cell_type": "code",
   "execution_count": 11,
   "metadata": {
    "execution": {
     "iopub.execute_input": "2021-01-20T00:44:32.082113Z",
     "iopub.status.busy": "2021-01-20T00:44:32.081299Z",
     "iopub.status.idle": "2021-01-20T00:44:35.481308Z",
     "shell.execute_reply": "2021-01-20T00:44:35.482346Z"
    },
    "papermill": {
     "duration": 3.552155,
     "end_time": "2021-01-20T00:44:35.482514",
     "exception": false,
     "start_time": "2021-01-20T00:44:31.930359",
     "status": "completed"
    },
    "tags": []
   },
   "outputs": [
    {
     "name": "stdout",
     "output_type": "stream",
     "text": [
      "34/34 [==============================] - 1s 29ms/step\n"
     ]
    },
    {
     "data": {
      "text/plain": [
       "[3, 1, 1, 0, 4]"
      ]
     },
     "execution_count": 11,
     "metadata": {},
     "output_type": "execute_result"
    }
   ],
   "source": [
    "predictions = model.predict(X_test)\n",
    "max_predictions = [np.argmax(value) for value in predictions]\n",
    "max_predictions[:5]"
   ]
  },
  {
   "cell_type": "code",
   "execution_count": 12,
   "metadata": {
    "execution": {
     "iopub.execute_input": "2021-01-20T00:44:35.719575Z",
     "iopub.status.busy": "2021-01-20T00:44:35.718776Z",
     "iopub.status.idle": "2021-01-20T00:44:35.967757Z",
     "shell.execute_reply": "2021-01-20T00:44:35.968170Z"
    },
    "papermill": {
     "duration": 0.349636,
     "end_time": "2021-01-20T00:44:35.968305",
     "exception": false,
     "start_time": "2021-01-20T00:44:35.618669",
     "status": "completed"
    },
    "tags": []
   },
   "outputs": [
    {
     "data": {
      "image/png": "[encoded data removed]",
      "text/plain": [
       "<Figure size 800x600 with 2 Axes>"
      ]
     },
     "metadata": {},
     "output_type": "display_data"
    }
   ],
   "source": [
    "confusion_matrix_result = confusion_matrix(y_test,max_predictions)\n",
    " \n",
    "plt.figure(figsize=(8,6))\n",
    "sns.heatmap(confusion_matrix_result,annot=True,cmap='Reds',fmt='.0f',xticklabels=flower_labels,yticklabels=flower_labels)\n",
    "plt.title('Flower Recognition')\n",
    "plt.xlabel('Predicted values')\n",
    "plt.ylabel('Actual values')\n",
    "plt.show()"
   ]
  },
  {
   "cell_type": "code",
   "execution_count": 13,
   "metadata": {
    "execution": {
     "iopub.execute_input": "2021-01-20T00:44:36.147904Z",
     "iopub.status.busy": "2021-01-20T00:44:36.147070Z",
     "iopub.status.idle": "2021-01-20T00:44:36.159581Z",
     "shell.execute_reply": "2021-01-20T00:44:36.159998Z"
    },
    "papermill": {
     "duration": 0.104925,
     "end_time": "2021-01-20T00:44:36.160124",
     "exception": false,
     "start_time": "2021-01-20T00:44:36.055199",
     "status": "completed"
    },
    "tags": []
   },
   "outputs": [
    {
     "name": "stdout",
     "output_type": "stream",
     "text": [
      "              precision    recall  f1-score   support\n",
      "\n",
      "           0       0.93      0.87      0.90       210\n",
      "           1       0.93      0.92      0.92       249\n",
      "           2       0.86      0.85      0.85       182\n",
      "           3       0.87      0.93      0.90       177\n",
      "           4       0.87      0.90      0.88       262\n",
      "\n",
      "    accuracy                           0.89      1080\n",
      "   macro avg       0.89      0.89      0.89      1080\n",
      "weighted avg       0.89      0.89      0.89      1080\n",
      "\n"
     ]
    }
   ],
   "source": [
    "classification_report_result = classification_report(y_test,max_predictions)\n",
    "print(classification_report_result)"
   ]
  },
  {
   "cell_type": "markdown",
   "metadata": {
    "papermill": {
     "duration": 0.129041,
     "end_time": "2021-01-20T00:44:36.378141",
     "exception": false,
     "start_time": "2021-01-20T00:44:36.249100",
     "status": "completed"
    },
    "tags": []
   },
   "source": [
    "## Saving the model"
   ]
  },
  {
   "cell_type": "code",
   "execution_count": 14,
   "metadata": {
    "execution": {
     "iopub.execute_input": "2021-01-20T00:44:36.565649Z",
     "iopub.status.busy": "2021-01-20T00:44:36.564776Z",
     "iopub.status.idle": "2021-01-20T00:44:36.988299Z",
     "shell.execute_reply": "2021-01-20T00:44:36.994405Z"
    },
    "papermill": {
     "duration": 0.529063,
     "end_time": "2021-01-20T00:44:36.994639",
     "exception": false,
     "start_time": "2021-01-20T00:44:36.465576",
     "status": "completed"
    },
    "tags": []
   },
   "outputs": [],
   "source": [
    "model.save('./flowers_test.h5')"
   ]
  }
 ],
 "metadata": {
  "kernelspec": {
   "display_name": "Python 3",
   "language": "python",
   "name": "python3"
  },
  "language_info": {
   "codemirror_mode": {
    "name": "ipython",
    "version": 3
   },
   "file_extension": ".py",
   "mimetype": "text/x-python",
   "name": "python",
   "nbconvert_exporter": "python",
   "pygments_lexer": "ipython3",
   "version": "3.10.11"
  },
  "papermill": {
   "duration": 110.791851,
   "end_time": "2021-01-20T00:44:38.162713",
   "environment_variables": {},
   "exception": null,
   "input_path": "__notebook__.ipynb",
   "output_path": "__notebook__.ipynb",
   "parameters": {},
   "start_time": "2021-01-20T00:42:47.370862",
   "version": "2.1.0"
  }
 },
 "nbformat": 4,
 "nbformat_minor": 4
}
