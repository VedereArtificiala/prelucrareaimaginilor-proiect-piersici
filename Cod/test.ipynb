{
 "cells": [
  {
   "cell_type": "code",
   "execution_count": 2,
   "metadata": {},
   "outputs": [],
   "source": [
    "import tensorflow as tf\n",
    "import tensorflow_hub as hub\n",
    "from tensorflow.keras import Sequential, layers\n",
    "from tensorflow.keras.preprocessing.image import load_img \n",
    "import os\n",
    "import numpy as np\n",
    "# For downloading the image.\n",
    "import matplotlib.pyplot as plt\n",
    "import tempfile\n",
    "from six.moves.urllib.request import urlopen\n",
    "from six import BytesIO\n",
    "\n",
    "flowers_dir = \"./flowers_1\"\n",
    "flower_labels = sorted(os.listdir(flowers_dir))\n",
    "flower_labels\n",
    "\n",
    "\n",
    "img_height = 299\n",
    "img_width = 299\n",
    "# img_height = 224\n",
    "# img_width = 224\n",
    "\n",
    "\n",
    "model = tf.keras.Sequential(\n",
    "    [\n",
    "        layers.experimental.preprocessing.Rescaling(\n",
    "            1.0 / 255, input_shape=(img_height, img_width, 3)\n",
    "        ),\n",
    "        hub.KerasLayer(\n",
    "            \"https://tfhub.dev/google/imagenet/inception_v3/feature_vector/4\",\n",
    "            # \"https://www.kaggle.com/models/tensorflow/resnet-50/frameworks/TensorFlow2/variations/classification/versions/1\",\n",
    "            trainable=False,\n",
    "        ),\n",
    "        tf.keras.layers.Dense(64, activation=\"relu\"),\n",
    "        tf.keras.layers.Dense(5, activation=\"softmax\"),\n",
    "        # tf.keras.layers.Dense(512, activation=\"relu\"),\n",
    "        # tf.keras.layers.Dense(100, activation=\"softmax\"),\n",
    "    ]\n",
    ")\n",
    "\n",
    "\n",
    "model.compile(\n",
    "    optimizer=\"adam\", loss=\"sparse_categorical_crossentropy\", metrics=\"accuracy\"\n",
    ")\n",
    "\n",
    "model.load_weights(\"./flowers_test.h5\")"
   ]
  },
  {
   "cell_type": "code",
   "execution_count": 9,
   "metadata": {},
   "outputs": [
    {
     "name": "stdout",
     "output_type": "stream",
     "text": [
      "Downloading data from https://upload.wikimedia.org/wikipedia/commons/4/40/Sunflower_sky_backdrop.jpg\n",
      "777742/777742 [==============================] - 0s 0us/step\n",
      "1/1 [==============================] - 0s 15ms/step\n",
      "----- sunflower 40.35 -----\n"
     ]
    }
   ],
   "source": [
    "file_url = input(\"image url: \")\n",
    "\n",
    "file_path = None\n",
    "\n",
    "try:\n",
    "    file_path = tf.keras.utils.get_file(\n",
    "        origin=file_url, cache_dir=\"./downloaded-images\"\n",
    "    )\n",
    "except: \n",
    "   None\n",
    "\n",
    "if file_path != None: \n",
    "  img = tf.keras.utils.load_img(file_path, target_size=(img_height, img_width))\n",
    "  img_array = tf.keras.utils.img_to_array(img)\n",
    "  img_array = tf.expand_dims(img_array, 0)\n",
    "\n",
    "  predictions = model.predict(img_array)\n",
    "  score = tf.nn.softmax(predictions[0])\n",
    "\n",
    "  max_score = 100 * np.max(score)\n",
    "\n",
    "  if max_score < 35:\n",
    "     print(\"----- unsure, best guess {} {:.2f} -----\".format(\n",
    "          flower_labels[np.argmax(score)], 100 * np.max(score)\n",
    "      ))\n",
    "  else:\n",
    "    print(\n",
    "        \"----- {} {:.2f} -----\".format(\n",
    "            flower_labels[np.argmax(score)], 100 * np.max(score)\n",
    "        )\n",
    "    )\n"
   ]
  }
 ],
 "metadata": {
  "kernelspec": {
   "display_name": ".venv",
   "language": "python",
   "name": "python3"
  },
  "language_info": {
   "codemirror_mode": {
    "name": "ipython",
    "version": 3
   },
   "file_extension": ".py",
   "mimetype": "text/x-python",
   "name": "python",
   "nbconvert_exporter": "python",
   "pygments_lexer": "ipython3",
   "version": "3.10.11"
  }
 },
 "nbformat": 4,
 "nbformat_minor": 2
}
